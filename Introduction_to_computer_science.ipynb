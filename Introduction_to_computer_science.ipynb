{
  "nbformat": 4,
  "nbformat_minor": 0,
  "metadata": {
    "colab": {
      "provenance": [],
      "authorship_tag": "ABX9TyM61kIurSEOu0cHDx5EzaT8",
      "include_colab_link": true
    },
    "kernelspec": {
      "name": "python3",
      "display_name": "Python 3"
    },
    "language_info": {
      "name": "python"
    }
  },
  "cells": [
    {
      "cell_type": "markdown",
      "metadata": {
        "id": "view-in-github",
        "colab_type": "text"
      },
      "source": [
        "<a href=\"https://colab.research.google.com/github/garvey43/computer-science3/blob/main/Introduction_to_computer_science.ipynb\" target=\"_parent\"><img src=\"https://colab.research.google.com/assets/colab-badge.svg\" alt=\"Open In Colab\"/></a>"
      ]
    },
    {
      "cell_type": "code",
      "execution_count": null,
      "metadata": {
        "colab": {
          "base_uri": "https://localhost:8080/"
        },
        "id": "rOgDJRv5MnVB",
        "outputId": "535f504b-28d5-488f-d724-728bdd367add"
      },
      "outputs": [
        {
          "output_type": "execute_result",
          "data": {
            "text/plain": [
              "int"
            ]
          },
          "metadata": {},
          "execution_count": 1
        }
      ],
      "source": [
        "type(9) #type function()"
      ]
    },
    {
      "cell_type": "code",
      "source": [
        "type(18.9) # Nomber With Decimals"
      ],
      "metadata": {
        "colab": {
          "base_uri": "https://localhost:8080/"
        },
        "id": "Qr3ifbb9NL9l",
        "outputId": "8081eee4-fbc5-4c0a-aff1-b34b8eec3f56"
      },
      "execution_count": null,
      "outputs": [
        {
          "output_type": "execute_result",
          "data": {
            "text/plain": [
              "float"
            ]
          },
          "metadata": {},
          "execution_count": 9
        }
      ]
    },
    {
      "cell_type": "code",
      "source": [
        "type(\"garvey\") #string"
      ],
      "metadata": {
        "colab": {
          "base_uri": "https://localhost:8080/"
        },
        "id": "EbGyrMMXNVjL",
        "outputId": "74fc63fe-3e92-4b11-f71b-2104745fa2c1"
      },
      "execution_count": null,
      "outputs": [
        {
          "output_type": "execute_result",
          "data": {
            "text/plain": [
              "str"
            ]
          },
          "metadata": {},
          "execution_count": 10
        }
      ]
    },
    {
      "cell_type": "code",
      "source": [
        "type(True) #Boolean"
      ],
      "metadata": {
        "colab": {
          "base_uri": "https://localhost:8080/"
        },
        "id": "Bfb8hQcjNr6A",
        "outputId": "ffc61ac9-983e-4bbe-db72-2e6cc098d937"
      },
      "execution_count": null,
      "outputs": [
        {
          "output_type": "execute_result",
          "data": {
            "text/plain": [
              "bool"
            ]
          },
          "metadata": {},
          "execution_count": 11
        }
      ]
    },
    {
      "cell_type": "code",
      "source": [
        "#variables\n",
        "name = \"garvey\"\n",
        "age = 19 # age\n",
        "city = \"Eldoret\""
      ],
      "metadata": {
        "id": "TD5iLuXPN0jl"
      },
      "execution_count": null,
      "outputs": []
    },
    {
      "cell_type": "code",
      "source": [
        "print(name)"
      ],
      "metadata": {
        "colab": {
          "base_uri": "https://localhost:8080/"
        },
        "id": "HCO6ZWDhP_gl",
        "outputId": "d9804ec6-61d4-4ec4-c64c-9d61bddeb4aa"
      },
      "execution_count": null,
      "outputs": [
        {
          "output_type": "stream",
          "name": "stdout",
          "text": [
            "garvey\n"
          ]
        }
      ]
    },
    {
      "cell_type": "code",
      "source": [
        "#Math in python\n",
        "pi = 355/113 # aproximate value for pi\n",
        "radius = 2.2\n",
        "radius = pi * (radius**2)\n",
        "circumferance = pi * (radius*2)"
      ],
      "metadata": {
        "id": "tpFnINuMQKso"
      },
      "execution_count": null,
      "outputs": []
    },
    {
      "cell_type": "code",
      "source": [
        "float(80)"
      ],
      "metadata": {
        "colab": {
          "base_uri": "https://localhost:8080/"
        },
        "id": "9Bw_eu89R5sk",
        "outputId": "3e93843b-46ff-4c9a-d6dd-17cdc44872f1"
      },
      "execution_count": null,
      "outputs": [
        {
          "output_type": "execute_result",
          "data": {
            "text/plain": [
              "80.0"
            ]
          },
          "metadata": {},
          "execution_count": 22
        }
      ]
    },
    {
      "cell_type": "code",
      "source": [
        "int(18.9)"
      ],
      "metadata": {
        "colab": {
          "base_uri": "https://localhost:8080/"
        },
        "id": "oJzrUKrJSCho",
        "outputId": "a726415f-0f6c-46d5-9655-dc20883dc8a5"
      },
      "execution_count": null,
      "outputs": [
        {
          "output_type": "execute_result",
          "data": {
            "text/plain": [
              "18"
            ]
          },
          "metadata": {},
          "execution_count": 24
        }
      ]
    },
    {
      "cell_type": "code",
      "source": [
        "round(18.6)"
      ],
      "metadata": {
        "colab": {
          "base_uri": "https://localhost:8080/"
        },
        "id": "FcvlRfsXSNMi",
        "outputId": "82e4086a-9559-4f56-9026-214cb149561b"
      },
      "execution_count": null,
      "outputs": [
        {
          "output_type": "execute_result",
          "data": {
            "text/plain": [
              "19"
            ]
          },
          "metadata": {},
          "execution_count": 29
        }
      ]
    },
    {
      "cell_type": "code",
      "source": [
        "new=(input(\"enter num1:\"))\n",
        "new2=(input(\"enter num2:\"))\n",
        "sum=new+new2\n",
        "print(f\"your age twice is :{sum}\")"
      ],
      "metadata": {
        "colab": {
          "base_uri": "https://localhost:8080/"
        },
        "id": "Q_nJfLNrkyZQ",
        "outputId": "5c5af765-73c3-4646-b342-da4ca625a2d2"
      },
      "execution_count": null,
      "outputs": [
        {
          "output_type": "stream",
          "name": "stdout",
          "text": [
            "enter num1:20\n",
            "enter num2:50\n",
            "your age twice is :70.0\n"
          ]
        }
      ]
    },
    {
      "cell_type": "code",
      "source": [
        "# Data conversions and Expressions\n",
        "float(3) # convert 3 to 3.0++++"
      ],
      "metadata": {
        "colab": {
          "base_uri": "https://localhost:8080/"
        },
        "id": "DL-lX6JJlPIq",
        "outputId": "40b6b269-c947-47bd-b32f-5129a04db4c1"
      },
      "execution_count": null,
      "outputs": [
        {
          "output_type": "execute_result",
          "data": {
            "text/plain": [
              "3.0"
            ]
          },
          "metadata": {},
          "execution_count": 6
        }
      ]
    },
    {
      "cell_type": "code",
      "source": [
        "int(3.9)"
      ],
      "metadata": {
        "id": "Z2Mklxq9nfr_",
        "colab": {
          "base_uri": "https://localhost:8080/"
        },
        "outputId": "7b4fffc6-da4c-43d2-9a81-2b4205fba646"
      },
      "execution_count": null,
      "outputs": [
        {
          "output_type": "execute_result",
          "data": {
            "text/plain": [
              "3"
            ]
          },
          "metadata": {},
          "execution_count": 8
        }
      ]
    },
    {
      "cell_type": "code",
      "source": [
        "round(3.9) # round to 4"
      ],
      "metadata": {
        "colab": {
          "base_uri": "https://localhost:8080/"
        },
        "id": "aKyRQGVQNLTl",
        "outputId": "868958c8-66f1-48f2-cf69-4dfdd42f79b6"
      },
      "execution_count": null,
      "outputs": [
        {
          "output_type": "execute_result",
          "data": {
            "text/plain": [
              "4"
            ]
          },
          "metadata": {},
          "execution_count": 11
        }
      ]
    },
    {
      "cell_type": "code",
      "source": [
        " #Mathematical Expretion:\n",
        " 3 + 2"
      ],
      "metadata": {
        "colab": {
          "base_uri": "https://localhost:8080/"
        },
        "id": "WaPl_KlVNW5g",
        "outputId": "7dec7c1c-aacd-41cc-9d41-d60850e21c61"
      },
      "execution_count": null,
      "outputs": [
        {
          "output_type": "execute_result",
          "data": {
            "text/plain": [
              "5"
            ]
          },
          "metadata": {},
          "execution_count": 13
        }
      ]
    },
    {
      "cell_type": "code",
      "source": [
        "(4 + 2) * (6 - 1)"
      ],
      "metadata": {
        "colab": {
          "base_uri": "https://localhost:8080/"
        },
        "id": "GvY4-lNTN2OE",
        "outputId": "a2760d6b-691f-422d-9d39-bbb6aeeff58b"
      },
      "execution_count": null,
      "outputs": [
        {
          "output_type": "execute_result",
          "data": {
            "text/plain": [
              "30"
            ]
          },
          "metadata": {},
          "execution_count": 15
        }
      ]
    },
    {
      "cell_type": "code",
      "source": [
        "# cord style and best practice\n",
        "# calculate the area and the circumfrance of a circle using an approximation for pi\n",
        "pi = 355/113\n",
        "radius = 2.2\n",
        "area = pi * (radius**2)\n",
        "radius = radius + 1 # update the radius"
      ],
      "metadata": {
        "id": "TkUWgTh0OZ82"
      },
      "execution_count": null,
      "outputs": []
    },
    {
      "cell_type": "code",
      "source": [
        "pi = 3.14 # Reassing pi\n",
        "radius = 2.2\n",
        "area =pi * (radius**2)\n",
        "radius = radius + 1 # updating the radius"
      ],
      "metadata": {
        "id": "U6wF4cvLRzaa"
      },
      "execution_count": null,
      "outputs": []
    },
    {
      "cell_type": "code",
      "source": [
        " #Define the approximate value for pi and the radius\n",
        " pi = 355/113 # approximate value for pi, roughly 3.1415929203539825\n",
        " radius = 2.2\n",
        "\n",
        " # calculate the area and the cicumference of a circle\n",
        " area = pi * (radius * 2 )\n",
        " # print the results\n",
        " print(\"area:\",area)"
      ],
      "metadata": {
        "colab": {
          "base_uri": "https://localhost:8080/"
        },
        "id": "2Z97hT1OSjEN",
        "outputId": "2184dbc7-9ff8-4915-86ef-abfd64a56f9c"
      },
      "execution_count": null,
      "outputs": [
        {
          "output_type": "stream",
          "name": "stdout",
          "text": [
            "area: 13.823008849557525\n"
          ]
        }
      ]
    },
    {
      "cell_type": "code",
      "source": [
        "# Debugging and fixing y =x\n",
        "x= 1\n",
        "y =2\n",
        "# incorect swap:\n",
        "x = y\n",
        "x = y\n"
      ],
      "metadata": {
        "id": "OqY5gzuVU_C7"
      },
      "execution_count": null,
      "outputs": []
    },
    {
      "cell_type": "code",
      "source": [
        "x = 1\n",
        "y = 2\n",
        "temp = x\n",
        "x = y\n",
        "y = temp"
      ],
      "metadata": {
        "id": "fI8RqbUgWf98"
      },
      "execution_count": null,
      "outputs": []
    },
    {
      "cell_type": "code",
      "source": [
        "print(y)"
      ],
      "metadata": {
        "colab": {
          "base_uri": "https://localhost:8080/"
        },
        "id": "SHfn0G0sWxBq",
        "outputId": "d66b724d-6eb3-4871-cd28-415eb21a1ae0"
      },
      "execution_count": null,
      "outputs": [
        {
          "output_type": "stream",
          "name": "stdout",
          "text": [
            "1\n"
          ]
        }
      ]
    },
    {
      "cell_type": "code",
      "source": [
        "x, y = y, x"
      ],
      "metadata": {
        "id": "91fBLAx-W_q0"
      },
      "execution_count": null,
      "outputs": []
    },
    {
      "cell_type": "code",
      "source": [
        "print(y)"
      ],
      "metadata": {
        "id": "8v1_nVV3XmuY",
        "outputId": "545475dc-aa8f-42bf-819e-a625559d8e73",
        "colab": {
          "base_uri": "https://localhost:8080/",
          "height": 141
        }
      },
      "execution_count": null,
      "outputs": [
        {
          "output_type": "error",
          "ename": "NameError",
          "evalue": "name 'y' is not defined",
          "traceback": [
            "\u001b[0;31m---------------------------------------------------------------------------\u001b[0m",
            "\u001b[0;31mNameError\u001b[0m                                 Traceback (most recent call last)",
            "\u001b[0;32m<ipython-input-2-d9183e048de3>\u001b[0m in \u001b[0;36m<cell line: 0>\u001b[0;34m()\u001b[0m\n\u001b[0;32m----> 1\u001b[0;31m \u001b[0mprint\u001b[0m\u001b[0;34m(\u001b[0m\u001b[0my\u001b[0m\u001b[0;34m)\u001b[0m\u001b[0;34m\u001b[0m\u001b[0;34m\u001b[0m\u001b[0m\n\u001b[0m",
            "\u001b[0;31mNameError\u001b[0m: name 'y' is not defined"
          ]
        }
      ]
    },
    {
      "cell_type": "code",
      "source": [
        "# calculate the area and parimeter of a rectangle\n",
        "length = 5.0           # length of a rectangle (in meters)\n",
        "width = 3.2\n",
        "area_rectangle =length * width\n",
        "perimater = (length + width)"
      ],
      "metadata": {
        "id": "bjLnY7E5Xf8a"
      },
      "execution_count": 3,
      "outputs": []
    },
    {
      "cell_type": "code",
      "source": [
        "print(f\"Rectangle Area:{area_rectangle}\")\n",
        "print(f\"Rectangle perimater:{perimater}\")"
      ],
      "metadata": {
        "colab": {
          "base_uri": "https://localhost:8080/"
        },
        "id": "bvL8mNcBcnir",
        "outputId": "6b6fcb32-6ef6-4026-fa71-15664f4edf79"
      },
      "execution_count": 31,
      "outputs": [
        {
          "output_type": "stream",
          "name": "stdout",
          "text": [
            "Rectangle Area:16.0\n",
            "Rectangle perimater:16.4\n"
          ]
        }
      ]
    },
    {
      "cell_type": "code",
      "source": [
        "# calculate updated area after increasing dimansions\n",
        "length =5.0          # initial length\n",
        "width = 3.2          # initial width\n"
      ],
      "metadata": {
        "id": "ijnxO_FOgIuk"
      },
      "execution_count": 7,
      "outputs": []
    },
    {
      "cell_type": "code",
      "source": [
        "#calculate the area with initial dimansion\n",
        "initial_area=length * width"
      ],
      "metadata": {
        "id": "KXB_bqorhaTC"
      },
      "execution_count": 10,
      "outputs": []
    },
    {
      "cell_type": "code",
      "source": [
        ""
      ],
      "metadata": {
        "id": "PFVIYinXh6en"
      },
      "execution_count": 11,
      "outputs": []
    },
    {
      "cell_type": "code",
      "source": [
        "# massy code Example\n",
        "\n",
        "# Messy Version\n",
        "length =5.0; width=3.2\n",
        "area =length * width\n",
        "perimater=2*(length+width)\n",
        "print(area, perimater)"
      ],
      "metadata": {
        "colab": {
          "base_uri": "https://localhost:8080/"
        },
        "id": "o4r-3oB7iJ3C",
        "outputId": "fe252309-d3eb-4039-ecdd-504cdcdd40d7"
      },
      "execution_count": 14,
      "outputs": [
        {
          "output_type": "stream",
          "name": "stdout",
          "text": [
            "16.0 16.4\n"
          ]
        }
      ]
    },
    {
      "cell_type": "code",
      "source": [
        "# Or calculate the area and perimater of a rectangle using clear veriables\n",
        "\n",
        "length=5.0\n",
        "width=3.2\n",
        "area=length * width\n",
        "perimater=2*(length+width)\n",
        "print(area, perimater)"
      ],
      "metadata": {
        "colab": {
          "base_uri": "https://localhost:8080/"
        },
        "id": "gjkrSzQZjzvA",
        "outputId": "401aae87-b37c-4ad9-bc43-4d5f43e71ffd"
      },
      "execution_count": 16,
      "outputs": [
        {
          "output_type": "stream",
          "name": "stdout",
          "text": [
            "16.0 16.4\n"
          ]
        }
      ]
    },
    {
      "cell_type": "code",
      "source": [
        "# Buggy function to computer the average of three nombers\n",
        "def average(a,b,c):\n",
        "  #BUG: Due to operator precidance, omly c is divided by 3\n",
        "  average =a+b+c/3\n",
        "  return average\n",
        "\n",
        "  # Expected output for average (3,6,9)should be 6.0 but the bug causes a miscalculation\n",
        "  print(\"Bugy average\")< average(3,6,9)"
      ],
      "metadata": {
        "id": "bJVvp6Q5lTqn"
      },
      "execution_count": 18,
      "outputs": []
    },
    {
      "cell_type": "code",
      "source": [
        "num = 5\n",
        "print(\"The number is \" ,(num))\n"
      ],
      "metadata": {
        "colab": {
          "base_uri": "https://localhost:8080/"
        },
        "id": "eL6_5I-FnXrU",
        "outputId": "85205466-3490-4f04-e007-21398e1917e3"
      },
      "execution_count": 26,
      "outputs": [
        {
          "output_type": "stream",
          "name": "stdout",
          "text": [
            "The number is  5\n"
          ]
        }
      ]
    },
    {
      "cell_type": "code",
      "source": [
        "a=10\n",
        "b=5\n",
        "total =a+b\n",
        "product =a*b\n",
        "result =total+product\n",
        "print(\"total\",total)\n",
        "print(\"product\",product)\n",
        "print(\"result (total + product):\",result)"
      ],
      "metadata": {
        "colab": {
          "base_uri": "https://localhost:8080/"
        },
        "id": "OtvBM-ClqeRx",
        "outputId": "63a17d27-efe1-4bba-bde0-bfa3c8e7f08e"
      },
      "execution_count": 28,
      "outputs": [
        {
          "output_type": "stream",
          "name": "stdout",
          "text": [
            "total 15\n",
            "product 50\n",
            "result (total + product): 65\n"
          ]
        }
      ]
    }
  ]
}